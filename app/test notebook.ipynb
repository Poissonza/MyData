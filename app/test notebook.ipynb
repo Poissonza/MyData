{
 "cells": [
  {
   "cell_type": "code",
   "id": "initial_id",
   "metadata": {
    "collapsed": true,
    "ExecuteTime": {
     "end_time": "2024-04-22T20:07:56.053195Z",
     "start_time": "2024-04-22T20:07:56.000950Z"
    }
   },
   "source": [
    "from boardgamegeek.api import UserApi, ThingAPI, PlaysApi\n",
    "from boardgamegeek.loaders import create_user_from_xml\n",
    "from boardgamegeek.util import XMLTools\n",
    "from boardgamegeek.loaders.boardgame import get_boardgame_from_xml\n",
    "\n",
    "import xml.etree.ElementTree as ET\n",
    "\n",
    "user_api = UserApi()\n",
    "user_data = ET.parse(\"user_data.xml\").getroot()\n",
    "thing_data = ET.parse(\"thing_data.xml\").getroot()\n",
    "thing_api = ThingAPI()\n",
    "play_api = PlaysApi()\n",
    "\n",
    "play1_data = ET.parse(\"playdata1.xml\").getroot()\n",
    "play2_data = ET.parse(\"playdata2.xml\").getroot()"
   ],
   "outputs": [],
   "execution_count": 1
  },
  {
   "metadata": {
    "ExecuteTime": {
     "end_time": "2024-04-22T20:07:56.057121Z",
     "start_time": "2024-04-22T20:07:56.054078Z"
    }
   },
   "cell_type": "code",
   "source": [
    "user = create_user_from_xml(user_data)\n",
    "\n",
    "user.to_dict()"
   ],
   "id": "8777d206b7c907ce",
   "outputs": [
    {
     "data": {
      "text/plain": "{'id': '960336',\n 'user_name': 'scod101',\n 'first_name': 'Adam',\n 'last_name': 'Borlase',\n 'avatar_link': 'N/A',\n 'year_registered': 2014,\n 'last_login': '2024-04-22',\n 'state_or_province': '',\n 'country': 'United Kingdom',\n 'trade_rating': 0}"
     },
     "execution_count": 2,
     "metadata": {},
     "output_type": "execute_result"
    }
   ],
   "execution_count": 2
  },
  {
   "metadata": {
    "ExecuteTime": {
     "end_time": "2024-04-22T20:07:56.059600Z",
     "start_time": "2024-04-22T20:07:56.057686Z"
    }
   },
   "cell_type": "code",
   "source": [
    "for item in thing_data:\n",
    "    print(item.tag, item.attrib)"
   ],
   "id": "e0b664b98aee073c",
   "outputs": [
    {
     "name": "stdout",
     "output_type": "stream",
     "text": [
      "item {'type': 'boardgame', 'id': '192836'}\n"
     ]
    }
   ],
   "execution_count": 3
  },
  {
   "metadata": {
    "ExecuteTime": {
     "end_time": "2024-04-22T20:07:56.063092Z",
     "start_time": "2024-04-22T20:07:56.060640Z"
    }
   },
   "cell_type": "code",
   "source": [
    "for item in thing_data:\n",
    "    game = get_boardgame_from_xml(item)\n",
    "\n",
    "game.to_dict()"
   ],
   "id": "90e84fba3388103d",
   "outputs": [
    {
     "data": {
      "text/plain": "{'id': '192836',\n 'name': 'The Colonists',\n 'type': 'boardgame',\n 'description': 'Description from the publisher:&#10;&#10;In\\n            The Colonists, a.k.a. Die Kolonisten, each player is a mayor of a village and must develop their environment\\n            to gain room for new farmers, craftsmen, and citizens. The main goal of the game is full employment, so\\n            players must create new jobs, educate the people, and build new houses to increase their population. But\\n            resources are limited, and their storage leads to problems that players must deal with, while also not\\n            forgetting to upgrade their buildings. Players select actions by moving their mayor on a central board.&#10;&#10;The\\n            Colonists is designed in different levels and scenarios, and even includes something akin to a tutorial,\\n            with the playing time varying between 30 minutes (for beginners) and 180 minutes (experts).&#10;&#10;The\\n            Colonists FAQ&#10;&#10;\\n        ',\n 'year_published': 2016,\n 'min_players': 1,\n 'max_players': 4,\n 'play_time': 360,\n 'min_play_time': 30,\n 'max_play_time': 360,\n 'min_age': 12,\n 'boardgame_category': ['Civilization'],\n 'boardgame_mechanic': ['Area Movement',\n  'Hand Management',\n  'Modular Board',\n  'Open Drafting',\n  'Solo / Solitaire Game',\n  'Tile Placement',\n  'Worker Placement'],\n 'boardgame_family': ['Players: Games with Solitaire Rules'],\n 'designer': ['Tim Puls']}"
     },
     "execution_count": 4,
     "metadata": {},
     "output_type": "execute_result"
    }
   ],
   "execution_count": 4
  },
  {
   "metadata": {
    "ExecuteTime": {
     "end_time": "2024-04-22T20:07:56.065580Z",
     "start_time": "2024-04-22T20:07:56.063681Z"
    }
   },
   "cell_type": "code",
   "source": [
    "def get_play_from_xml(xml_data):\n",
    "    \n",
    "    dict = {\n",
    "        \"id\": int(xml_data.attrib[\"id\"]),\n",
    "        \"date\": xml_data.attrib[\"date\"],\n",
    "        \"quantity\": int(xml_data.attrib[\"quantity\"]),\n",
    "        \"length\": int(xml_data.attrib[\"length\"]),\n",
    "        \"incomplete\": xml_data.attrib[\"incomplete\"],\n",
    "        \"now_in_stats\": xml_data.attrib[\"nowinstats\"],\n",
    "        \"location\": xml_data.attrib[\"location\"],\n",
    "    }\n",
    "    \n",
    "    print(dict)\n",
    "\n",
    "get_play_from_xml(play1_data[0])\n",
    "\n"
   ],
   "id": "45081e52f3407e72",
   "outputs": [
    {
     "name": "stdout",
     "output_type": "stream",
     "text": [
      "{'id': 83868501, 'date': '2024-04-20', 'quantity': 1, 'length': 42, 'incomplete': '0', 'now_in_stats': '0', 'location': 'Ludoquist'}\n"
     ]
    }
   ],
   "execution_count": 5
  }
 ],
 "metadata": {
  "kernelspec": {
   "display_name": "Python 3",
   "language": "python",
   "name": "python3"
  },
  "language_info": {
   "codemirror_mode": {
    "name": "ipython",
    "version": 2
   },
   "file_extension": ".py",
   "mimetype": "text/x-python",
   "name": "python",
   "nbconvert_exporter": "python",
   "pygments_lexer": "ipython2",
   "version": "2.7.6"
  }
 },
 "nbformat": 4,
 "nbformat_minor": 5
}
