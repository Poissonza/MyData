{
 "cells": [
  {
   "cell_type": "code",
   "id": "initial_id",
   "metadata": {
    "collapsed": true,
    "ExecuteTime": {
     "end_time": "2024-04-22T15:10:26.318670Z",
     "start_time": "2024-04-22T15:10:26.273928Z"
    }
   },
   "source": [
    "from boardgamegeek.api import UserApi, ThingAPI, PlaysApi\n",
    "from boardgamegeek.loaders import create_user_from_xml\n",
    "from boardgamegeek.util import XMLTools\n",
    "from boardgamegeek.loaders.boardgame import get_boardgame_from_xml\n",
    "\n",
    "import xml.etree.ElementTree as ET\n",
    "\n",
    "user_api = UserApi()\n",
    "user_data = ET.parse(\"user_data.xml\").getroot()\n",
    "thing_data = ET.parse(\"thing_data.xml\").getroot()\n",
    "thing_api = ThingAPI()\n",
    "play_api = PlaysApi()\n",
    "\n",
    "play1_data = ET.parse(\"playdata1.xml\").getroot()\n",
    "play2_data = ET.parse(\"playdata2.xml\").getroot()"
   ],
   "outputs": [],
   "execution_count": 10
  },
  {
   "metadata": {
    "ExecuteTime": {
     "end_time": "2024-04-22T15:10:26.326764Z",
     "start_time": "2024-04-22T15:10:26.320676Z"
    }
   },
   "cell_type": "code",
   "source": "create_user_from_xml(user_data)",
   "id": "8777d206b7c907ce",
   "outputs": [
    {
     "name": "stdout",
     "output_type": "stream",
     "text": [
      "{'id': '960336', 'user_name': 'scod101', 'first_name': 'Adam', 'last_name': 'Borlase', 'avatar_link': 'N/A', 'year_registered': 2014, 'last_login': '2024-04-22', 'state_or_province': '', 'country': 'United Kingdom', 'trade_rating': 0}\n"
     ]
    }
   ],
   "execution_count": 11
  },
  {
   "metadata": {
    "ExecuteTime": {
     "end_time": "2024-04-22T15:10:26.338351Z",
     "start_time": "2024-04-22T15:10:26.328773Z"
    }
   },
   "cell_type": "code",
   "source": [
    "for item in thing_data:\n",
    "    print(item.tag, item.attrib)"
   ],
   "id": "e0b664b98aee073c",
   "outputs": [
    {
     "name": "stdout",
     "output_type": "stream",
     "text": [
      "item {'type': 'boardgame', 'id': '192836'}\n"
     ]
    }
   ],
   "execution_count": 12
  },
  {
   "metadata": {
    "ExecuteTime": {
     "end_time": "2024-04-22T15:10:26.348778Z",
     "start_time": "2024-04-22T15:10:26.341359Z"
    }
   },
   "cell_type": "code",
   "source": [
    "for item in thing_data:\n",
    "    game = get_boardgame_from_xml(item)\n",
    "\n"
   ],
   "id": "90e84fba3388103d",
   "outputs": [],
   "execution_count": 13
  },
  {
   "metadata": {
    "ExecuteTime": {
     "end_time": "2024-04-22T15:18:14.661979Z",
     "start_time": "2024-04-22T15:18:14.657013Z"
    }
   },
   "cell_type": "code",
   "source": [
    "def get_play_from_xml(xml_data):\n",
    "    \n",
    "    dict = {\n",
    "        \"id\": int(xml_data.attrib[\"id\"]),\n",
    "        \"date\": xml_data.attrib[\"date\"],\n",
    "        \"quantity\": int(xml_data.attrib[\"quantity\"]),\n",
    "        \"length\": int(xml_data.attrib[\"length\"]),\n",
    "        \"incomplete\": xml_data.attrib[\"incomplete\"],\n",
    "        \"now_in_stats\": xml_data.attrib[\"nowinstats\"],\n",
    "        \"location\": xml_data.attrib[\"location\"],\n",
    "    }\n",
    "    \n",
    "    print(dict)\n",
    "\n",
    "get_play_from_xml(play1_data[0])\n",
    "\n"
   ],
   "id": "45081e52f3407e72",
   "outputs": [
    {
     "name": "stdout",
     "output_type": "stream",
     "text": [
      "{'id': 83868501, 'date': '2024-04-20', 'quantity': 1, 'length': 42, 'incomplete': '0', 'now_in_stats': '0', 'location': 'Ludoquist'}\n"
     ]
    }
   ],
   "execution_count": 21
  }
 ],
 "metadata": {
  "kernelspec": {
   "display_name": "Python 3",
   "language": "python",
   "name": "python3"
  },
  "language_info": {
   "codemirror_mode": {
    "name": "ipython",
    "version": 2
   },
   "file_extension": ".py",
   "mimetype": "text/x-python",
   "name": "python",
   "nbconvert_exporter": "python",
   "pygments_lexer": "ipython2",
   "version": "2.7.6"
  }
 },
 "nbformat": 4,
 "nbformat_minor": 5
}
